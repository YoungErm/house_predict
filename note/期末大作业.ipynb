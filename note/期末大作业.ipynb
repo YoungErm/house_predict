{
 "cells": [
  {
   "cell_type": "markdown",
   "metadata": {},
   "source": [
    "# 1.数据预处理"
   ]
  },
  {
   "cell_type": "code",
   "execution_count": 8,
   "metadata": {},
   "outputs": [],
   "source": [
    "# 1.数据初探\n",
    "# 1.1首先导入要使用的科学计算包numpy，pandas，可视化matplotlib，seaborn,以及机器学习包sklearn。\n",
    "import pandas as pd\n",
    "import numpy as np\n",
    "import seaborn as sns\n",
    "import matplotlib as mpl\n",
    "\n",
    "import matplotlib.pyplot as plt\n",
    "from IPython.display import display\n",
    "\n",
    "plt.style.use(\"fivethirtyeight\")\n",
    "sns.set_style({'font.sans-serif': ['simhei', 'Arial']})\n",
    "# % matplotlib inline"
   ]
  },
  {
   "cell_type": "code",
   "execution_count": null,
   "metadata": {},
   "outputs": [],
   "source": [
    "# 1.2然后导入数据，并进行初步的观察，这些观察包括了解数据特征的缺失值，异常值，以及大概的描述性统计。\n",
    "# 导入链家房屋数据\n",
    "data = pd.read_csv(\"./data.csv\")\n",
    "display(data.head(n=2))"
   ]
  },
  {
   "cell_type": "code",
   "execution_count": null,
   "metadata": {},
   "outputs": [],
   "source": [
    "# 检查缺失值情况\n",
    "data.info"
   ]
  },
  {
   "cell_type": "code",
   "execution_count": null,
   "metadata": {},
   "outputs": [],
   "source": [
    "# 1.3初步观察到一共有11个特征变量，Price 在这里是我们的目标变量，然后我们继续深入观察一下。\n",
    "# 检查缺失值情况\n",
    "data.describe"
   ]
  },
  {
   "cell_type": "code",
   "execution_count": null,
   "metadata": {},
   "outputs": [],
   "source": [
    "# 添加新特征房屋均价\n",
    "df = data.copy()\n",
    "df['PerPrice'] = data['Price'] / data['Size']\n",
    "df[:2]"
   ]
  },
  {
   "cell_type": "code",
   "execution_count": null,
   "metadata": {},
   "outputs": [],
   "source": [
    "# 重新摆放列位置\n",
    "columns = ['Region', 'District', 'Garden', 'Layout', 'Floor', 'Year', 'Size', 'Elevator', 'Direction', 'Renovation',\n",
    "           'PerPrice', 'Price']\n",
    "\n",
    "df = pd.DataFrame(df, columns=columns)\n",
    "# 重新审视数据集\n",
    "display(df.head(n=2))\n"
   ]
  },
  {
   "cell_type": "code",
   "execution_count": null,
   "metadata": {},
   "outputs": [],
   "source": [
    "# 2 数据可视化分析\n",
    "# 2.1 Region特征分析\n",
    "\n",
    "# 对于区域特征，我们可以分析不同区域房价和数量的对比。\n",
    "# 对房屋区域分组对比房屋数量和每平米房价\n",
    "# 使用了pandas的网络透视功能 groupby 分组排序。\n",
    "# 区域特征可视化直接采用 seaborn 完成，颜色使用调色板 palette 参数，颜色渐变，越浅说明越少，反之越多\n",
    "df_house_count = df.groupby('Region')['Price'].count().sort_values(ascending=False).to_frame().reset_index()\n",
    "df_house_mean = df.groupby('Region')['PerPrice'].mean().sort_values(ascending=False).to_frame().reset_index()\n",
    "\n",
    "f, [ax1, ax2, ax3] = plt.subplots(3, 1, figsize=(20, 15))\n",
    "sns.barplot(x='Region', y='PerPrice', palette=\"Blues_d\", data=df_house_mean, ax=ax1)\n",
    "ax1.set_title('北京各大区房屋每平米单价对比', fontsize=12)\n",
    "ax1.set_xlabel('区域', fontsize=12)\n",
    "ax1.set_ylabel('每平米单价', fontsize=12)\n",
    "\n",
    "sns.barplot(x='Region', y='Price', palette=\"Greens_d\", data=df_house_count, ax=ax2)\n",
    "ax2.set_title('北京各大区房屋数量对比', fontsize=12)\n",
    "ax2.set_xlabel('区域', fontsize=12)\n",
    "ax2.set_ylabel('数量', fontsize=12)\n",
    "\n",
    "sns.boxplot(x='Region', y='Price', data=df, ax=ax3)\n",
    "ax3.set_title('北京各大区房屋房屋总价', fontsize=12)\n",
    "ax3.set_xlabel('区域', fontsize=12)\n",
    "ax3.set_ylabel('房屋总价', fontsize=12)\n",
    "\n",
    "# plt.show()\n",
    "plt.savefig(\"Region.png\")"
   ]
  },
  {
   "cell_type": "code",
   "execution_count": null,
   "metadata": {},
   "outputs": [],
   "source": [
    "# 2.2 Size特征分析\n",
    "f, [ax1, ax2] = plt.subplots(1, 2, figsize=(15, 10))\n",
    "\n",
    "# 房屋面积的分布情况\n",
    "sns.distplot(df['Size'], bins=20, ax=ax1, color='r')\n",
    "sns.kdeplot(df['Size'], shade=True, ax=ax1)\n",
    "ax1.set_title('房屋面积的分布情况', fontsize=12)\n",
    "ax1.set_xlabel('面积/平米', fontsize=12)\n",
    "ax1.set_ylabel('所占比例', fontsize=12)\n",
    "\n",
    "# 建房时间和出售价格的关系\n",
    "sns.regplot(x='Size', y='Price', data=df, ax=ax2)\n",
    "ax2.set_title('建房时间和出售价格的关系', fontsize=12)\n",
    "ax2.set_xlabel('面积/平米', fontsize=12)\n",
    "ax2.set_ylabel('价格', fontsize=12)\n",
    "# plt.show()\n",
    "plt.savefig('Size.png')"
   ]
  },
  {
   "cell_type": "code",
   "execution_count": null,
   "metadata": {},
   "outputs": [],
   "source": [
    "print(\"房屋面积小于10平米：\")\n",
    "df.loc[df['Size'] < 10]"
   ]
  },
  {
   "cell_type": "code",
   "execution_count": null,
   "metadata": {},
   "outputs": [],
   "source": [
    "print(\"房屋面积大于1000平米：\")\n",
    "df.loc[df['Size'] > 1000]"
   ]
  },
  {
   "cell_type": "code",
   "execution_count": null,
   "metadata": {},
   "outputs": [],
   "source": [
    "# 2.3 Layout特征分析\n",
    "f, ax1 = plt.subplots(figsize=(20, 20))\n",
    "sns.countplot(y='Layout', data=df, ax=ax1)\n",
    "ax1.set_title('房屋户型与数量关系', fontsize=12)\n",
    "ax1.set_xlabel('数量', fontsize=12)\n",
    "ax1.set_ylabel('户型', fontsize=12)\n",
    "# plt.show()\n",
    "plt.savefig('Layout.png')"
   ]
  },
  {
   "cell_type": "code",
   "execution_count": null,
   "metadata": {},
   "outputs": [],
   "source": [
    "# 2.4Renovation特征分析\n",
    "print(df['Renovation'].value_counts())\n",
    "# 去掉数据中装修特征“南北”\n",
    "df['Renovation'] = df.loc[(df['Renovation'] != '南北'), 'Renovation']\n",
    "# 画幅设置\n",
    "f, [ax1, ax2, ax3] = plt.subplots(1, 3, figsize=(20, 10))\n",
    "sns.countplot(df['Renovation'], ax=ax1)\n",
    "ax1.set_title('装修特征与数量关系', fontsize=12)\n",
    "ax1.set_xlabel('装修特征', fontsize=12)\n",
    "ax1.set_ylabel('数量', fontsize=12)\n",
    "\n",
    "sns.barplot(x='Renovation', y='Price', data=df, ax=ax2)\n",
    "ax2.set_title('装修特征与价格关系', fontsize=12)\n",
    "ax2.set_xlabel('装修特征', fontsize=12)\n",
    "ax2.set_ylabel('价格', fontsize=12)\n",
    "\n",
    "sns.boxplot(x='Renovation', y='Price', data=df, ax=ax3)\n",
    "ax3.set_title('装修特征与数量关系箱型图', fontsize=12)\n",
    "ax3.set_xlabel('装修特征', fontsize=12)\n",
    "ax3.set_ylabel('数量', fontsize=12)\n",
    "# plt.show()\n",
    "plt.savefig('Renovation.png')"
   ]
  },
  {
   "cell_type": "code",
   "execution_count": null,
   "metadata": {},
   "outputs": [],
   "source": [
    "# 2.5Elevator特征分析\n",
    "# 初探数据时，Elevator有大量的缺失值\n",
    "misn = len(df.loc[(df['Elevator'].isnull()), 'Elevator'])\n",
    "print(\"电梯的缺失值数量：\", misn)\n",
    "\n",
    "# 由于存在个别类型错误，如简装和精装，特征值错位，故需要移除\n",
    "df['Elevator'] = df.loc[(df['Elevator'] == '有电梯') | (df['Elevator'] == '无电梯'), 'Elevator']\n",
    "\n",
    "# 填补Elevator缺失值  随机的\n",
    "df.loc[(df['Floor'] > 6) & (df['Elevator'].isnull()), 'Elevator'] = '有电梯'\n",
    "df.loc[(df['Floor'] <= 6) & (df['Elevator'].isnull()), 'Elevator'] = '无电梯'\n",
    "\n",
    "f, [ax1, ax2] = plt.subplots(1, 2, figsize=(20, 10))\n",
    "sns.countplot(df['Elevator'], ax=ax1)\n",
    "ax1.set_title('有无电梯数量对比', fontsize=15)\n",
    "ax1.set_xlabel('是否有电梯')\n",
    "ax1.set_ylabel('数量')\n",
    "sns.barplot(x='Elevator', y='Price', data=df, ax=ax2)\n",
    "ax2.set_title('有无电梯房价对比', fontsize=15)\n",
    "ax2.set_xlabel('是否有电梯')\n",
    "ax2.set_ylabel('总价')\n",
    "# plt.show()\n",
    "plt.savefig(\"Elevator.png\")"
   ]
  },
  {
   "cell_type": "code",
   "execution_count": null,
   "metadata": {},
   "outputs": [],
   "source": [
    "#2.6 Year特征分析\n",
    "# grid = sns.FacetGrid(df, row='Elevator', col='Renovation', palette='seismic',size=4)\n",
    "grid = sns.FacetGrid(df, row='Elevator', col='Renovation', palette='seismic',height=4)\n",
    "grid.map(plt.scatter, 'Year', 'Price')\n",
    "grid.add_legend()\n",
    "grid.savefig(\"Year.png\")"
   ]
  },
  {
   "cell_type": "code",
   "execution_count": null,
   "metadata": {},
   "outputs": [],
   "source": []
  }
 ],
 "metadata": {
  "kernelspec": {
   "display_name": "Python 3",
   "language": "python",
   "name": "python3"
  },
  "language_info": {
   "codemirror_mode": {
    "name": "ipython",
    "version": 3
   },
   "file_extension": ".py",
   "mimetype": "text/x-python",
   "name": "python",
   "nbconvert_exporter": "python",
   "pygments_lexer": "ipython3",
   "version": "3.7.3"
  }
 },
 "nbformat": 4,
 "nbformat_minor": 4
}
